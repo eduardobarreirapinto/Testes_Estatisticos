{
 "cells": [
  {
   "cell_type": "code",
   "execution_count": 1,
   "id": "c2c7e586-b859-4a77-a694-6e654a2082dd",
   "metadata": {},
   "outputs": [],
   "source": [
    "import pandas as pd\n",
    "import numpy as np\n",
    "import scipy.stats as stats\n",
    "import statsmodels.stats.stattools as stattools\n",
    "from scipy.stats import mstats\n",
    "from scipy.stats import zscore\n",
    "from scipy.stats import shapiro\n"
   ]
  },
  {
   "cell_type": "markdown",
   "id": "53f7bad7-6731-46d0-843a-a3bcb6847176",
   "metadata": {},
   "source": [
    "# Lendo a planilha com os dados "
   ]
  },
  {
   "cell_type": "code",
   "execution_count": 2,
   "id": "567d8fcc-bc0f-4aea-8768-084bec0803f9",
   "metadata": {},
   "outputs": [],
   "source": [
    "def ler_planilha (path):\n",
    "    df = pd.read_excel(path, sheet_name='Dados')\n",
    "    df = df.set_index(\"Replicatas\") #df.set_index(\"Replicatas\", inplace=True)\n",
    "    df = df.apply(pd.to_numeric, errors='coerce')# Converter as colunas para formato numérico, se necessário\n",
    "    df = df.round(2)\n",
    "    return df"
   ]
  },
  {
   "cell_type": "code",
   "execution_count": 3,
   "id": "e0db3ea6-4b46-4cd7-8613-7a36fc9c7fe4",
   "metadata": {},
   "outputs": [],
   "source": [
    "df  =  ler_planilha ('Testes_Estatisticos.xlsx')"
   ]
  },
  {
   "cell_type": "code",
   "execution_count": 4,
   "id": "13891718-570f-41e8-ac13-0794cd2c6abc",
   "metadata": {},
   "outputs": [
    {
     "data": {
      "text/html": [
       "<div>\n",
       "<style scoped>\n",
       "    .dataframe tbody tr th:only-of-type {\n",
       "        vertical-align: middle;\n",
       "    }\n",
       "\n",
       "    .dataframe tbody tr th {\n",
       "        vertical-align: top;\n",
       "    }\n",
       "\n",
       "    .dataframe thead th {\n",
       "        text-align: right;\n",
       "    }\n",
       "</style>\n",
       "<table border=\"1\" class=\"dataframe\">\n",
       "  <thead>\n",
       "    <tr style=\"text-align: right;\">\n",
       "      <th></th>\n",
       "      <th>Padrão 1</th>\n",
       "      <th>Padrão 2</th>\n",
       "      <th>Padrão 3</th>\n",
       "      <th>Padrão 4</th>\n",
       "      <th>Padrão 5</th>\n",
       "      <th>Padrão 6</th>\n",
       "    </tr>\n",
       "    <tr>\n",
       "      <th>Replicatas</th>\n",
       "      <th></th>\n",
       "      <th></th>\n",
       "      <th></th>\n",
       "      <th></th>\n",
       "      <th></th>\n",
       "      <th></th>\n",
       "    </tr>\n",
       "  </thead>\n",
       "  <tbody>\n",
       "    <tr>\n",
       "      <th>1</th>\n",
       "      <td>73439.33</td>\n",
       "      <td>114422.95</td>\n",
       "      <td>137847.37</td>\n",
       "      <td>168777.89</td>\n",
       "      <td>219072.22</td>\n",
       "      <td>281650.94</td>\n",
       "    </tr>\n",
       "    <tr>\n",
       "      <th>2</th>\n",
       "      <td>74709.57</td>\n",
       "      <td>114855.20</td>\n",
       "      <td>136493.41</td>\n",
       "      <td>172028.96</td>\n",
       "      <td>222644.05</td>\n",
       "      <td>276065.01</td>\n",
       "    </tr>\n",
       "    <tr>\n",
       "      <th>3</th>\n",
       "      <td>75383.99</td>\n",
       "      <td>116134.25</td>\n",
       "      <td>135820.57</td>\n",
       "      <td>172089.50</td>\n",
       "      <td>222438.49</td>\n",
       "      <td>277585.04</td>\n",
       "    </tr>\n",
       "    <tr>\n",
       "      <th>4</th>\n",
       "      <td>76085.28</td>\n",
       "      <td>117401.73</td>\n",
       "      <td>136135.26</td>\n",
       "      <td>173948.81</td>\n",
       "      <td>223538.30</td>\n",
       "      <td>278630.83</td>\n",
       "    </tr>\n",
       "    <tr>\n",
       "      <th>5</th>\n",
       "      <td>76761.00</td>\n",
       "      <td>117268.61</td>\n",
       "      <td>137848.39</td>\n",
       "      <td>175236.13</td>\n",
       "      <td>220192.94</td>\n",
       "      <td>281322.57</td>\n",
       "    </tr>\n",
       "    <tr>\n",
       "      <th>6</th>\n",
       "      <td>76516.32</td>\n",
       "      <td>117733.62</td>\n",
       "      <td>138811.59</td>\n",
       "      <td>175135.40</td>\n",
       "      <td>220294.16</td>\n",
       "      <td>280352.98</td>\n",
       "    </tr>\n",
       "    <tr>\n",
       "      <th>7</th>\n",
       "      <td>76067.53</td>\n",
       "      <td>115657.58</td>\n",
       "      <td>138185.08</td>\n",
       "      <td>175373.97</td>\n",
       "      <td>220294.16</td>\n",
       "      <td>281291.21</td>\n",
       "    </tr>\n",
       "  </tbody>\n",
       "</table>\n",
       "</div>"
      ],
      "text/plain": [
       "            Padrão 1   Padrão 2   Padrão 3   Padrão 4   Padrão 5   Padrão 6\n",
       "Replicatas                                                                 \n",
       "1           73439.33  114422.95  137847.37  168777.89  219072.22  281650.94\n",
       "2           74709.57  114855.20  136493.41  172028.96  222644.05  276065.01\n",
       "3           75383.99  116134.25  135820.57  172089.50  222438.49  277585.04\n",
       "4           76085.28  117401.73  136135.26  173948.81  223538.30  278630.83\n",
       "5           76761.00  117268.61  137848.39  175236.13  220192.94  281322.57\n",
       "6           76516.32  117733.62  138811.59  175135.40  220294.16  280352.98\n",
       "7           76067.53  115657.58  138185.08  175373.97  220294.16  281291.21"
      ]
     },
     "execution_count": 4,
     "metadata": {},
     "output_type": "execute_result"
    }
   ],
   "source": [
    "df"
   ]
  },
  {
   "cell_type": "code",
   "execution_count": 5,
   "id": "3fc30d52-9c14-42fb-88ae-38172650e967",
   "metadata": {},
   "outputs": [],
   "source": [
    "#df.describe()"
   ]
  },
  {
   "cell_type": "code",
   "execution_count": 6,
   "id": "c4753fc4-9e20-4dd6-87fe-28e0b57fb710",
   "metadata": {},
   "outputs": [
    {
     "name": "stdout",
     "output_type": "stream",
     "text": [
      "Padrão 1     75566.15\n",
      "Padrão 2    116210.56\n",
      "Padrão 3    137305.95\n",
      "Padrão 4    173227.24\n",
      "Padrão 5    221210.62\n",
      "Padrão 6    279556.94\n",
      "dtype: float64\n",
      "Padrão 1    1164.88\n",
      "Padrão 2    1303.98\n",
      "Padrão 3    1144.86\n",
      "Padrão 4    2426.69\n",
      "Padrão 5    1646.65\n",
      "Padrão 6    2163.46\n",
      "dtype: float64\n",
      "Padrão 1    1356940.38\n",
      "Padrão 2    1700371.31\n",
      "Padrão 3    1310714.70\n",
      "Padrão 4    5888811.54\n",
      "Padrão 5    2711450.91\n",
      "Padrão 6    4680550.31\n",
      "dtype: float64\n"
     ]
    }
   ],
   "source": [
    "df  =  ler_planilha ('Testes_Estatisticos.xlsx')\n",
    "\n",
    "# Calcular a média e desvio padrão de cada coluna\n",
    "medias = df.mean().round(2)\n",
    "desvios_padrao = df.std().round(2)\n",
    "variancias = df.var().round(2)\n",
    "\n",
    "print(medias)\n",
    "print(desvios_padrao)\n",
    "print(variancias)\n"
   ]
  },
  {
   "cell_type": "code",
   "execution_count": 7,
   "id": "72e18c25-4213-44b6-9aaa-c3c4ad30d829",
   "metadata": {},
   "outputs": [],
   "source": [
    "dfmin = df.min()"
   ]
  },
  {
   "cell_type": "code",
   "execution_count": 8,
   "id": "0b4a5e4e-042e-4b6a-8911-056164d40a6d",
   "metadata": {},
   "outputs": [
    {
     "data": {
      "text/plain": [
       "Padrão 1     73439.33\n",
       "Padrão 2    114422.95\n",
       "Padrão 3    135820.57\n",
       "Padrão 4    168777.89\n",
       "Padrão 5    219072.22\n",
       "Padrão 6    276065.01\n",
       "dtype: float64"
      ]
     },
     "execution_count": 8,
     "metadata": {},
     "output_type": "execute_result"
    }
   ],
   "source": [
    "dfmin"
   ]
  },
  {
   "cell_type": "code",
   "execution_count": 9,
   "id": "cd5e7a88-5c95-4c1d-a184-89db5d97b69d",
   "metadata": {},
   "outputs": [],
   "source": [
    "# Calcular os valores normalizados Gmin e Gmax\n",
    "Gmin = ((medias - df.min()) / desvios_padrao).round(3)\n",
    "Gmax = ((df.max() - medias) / desvios_padrao).round(3)"
   ]
  },
  {
   "cell_type": "code",
   "execution_count": 10,
   "id": "bda48d5d-0b51-4efb-97f7-4ae88b246f8d",
   "metadata": {},
   "outputs": [
    {
     "data": {
      "text/plain": [
       "Padrão 1    1.826\n",
       "Padrão 2    1.371\n",
       "Padrão 3    1.297\n",
       "Padrão 4    1.834\n",
       "Padrão 5    1.299\n",
       "Padrão 6    1.614\n",
       "dtype: float64"
      ]
     },
     "execution_count": 10,
     "metadata": {},
     "output_type": "execute_result"
    }
   ],
   "source": [
    "Gmin"
   ]
  },
  {
   "cell_type": "code",
   "execution_count": 11,
   "id": "a7de843a-6700-4696-a814-4a906105633c",
   "metadata": {},
   "outputs": [
    {
     "data": {
      "text/plain": [
       "Padrão 1    1.026\n",
       "Padrão 2    1.168\n",
       "Padrão 3    1.315\n",
       "Padrão 4    0.885\n",
       "Padrão 5    1.414\n",
       "Padrão 6    0.968\n",
       "dtype: float64"
      ]
     },
     "execution_count": 11,
     "metadata": {},
     "output_type": "execute_result"
    }
   ],
   "source": [
    "Gmax"
   ]
  },
  {
   "cell_type": "code",
   "execution_count": 12,
   "id": "f7e74951-34d9-487e-b626-1059cc2989fa",
   "metadata": {},
   "outputs": [
    {
     "data": {
      "text/html": [
       "<div>\n",
       "<style scoped>\n",
       "    .dataframe tbody tr th:only-of-type {\n",
       "        vertical-align: middle;\n",
       "    }\n",
       "\n",
       "    .dataframe tbody tr th {\n",
       "        vertical-align: top;\n",
       "    }\n",
       "\n",
       "    .dataframe thead th {\n",
       "        text-align: right;\n",
       "    }\n",
       "</style>\n",
       "<table border=\"1\" class=\"dataframe\">\n",
       "  <thead>\n",
       "    <tr style=\"text-align: right;\">\n",
       "      <th></th>\n",
       "      <th>Padrão 1</th>\n",
       "      <th>Padrão 2</th>\n",
       "      <th>Padrão 3</th>\n",
       "      <th>Padrão 4</th>\n",
       "      <th>Padrão 5</th>\n",
       "      <th>Padrão 6</th>\n",
       "    </tr>\n",
       "  </thead>\n",
       "  <tbody>\n",
       "    <tr>\n",
       "      <th>1</th>\n",
       "      <td>73439.330</td>\n",
       "      <td>114422.950</td>\n",
       "      <td>137847.370</td>\n",
       "      <td>168777.890</td>\n",
       "      <td>219072.220</td>\n",
       "      <td>281650.940</td>\n",
       "    </tr>\n",
       "    <tr>\n",
       "      <th>2</th>\n",
       "      <td>74709.570</td>\n",
       "      <td>114855.200</td>\n",
       "      <td>136493.410</td>\n",
       "      <td>172028.960</td>\n",
       "      <td>222644.050</td>\n",
       "      <td>276065.010</td>\n",
       "    </tr>\n",
       "    <tr>\n",
       "      <th>3</th>\n",
       "      <td>75383.990</td>\n",
       "      <td>116134.250</td>\n",
       "      <td>135820.570</td>\n",
       "      <td>172089.500</td>\n",
       "      <td>222438.490</td>\n",
       "      <td>277585.040</td>\n",
       "    </tr>\n",
       "    <tr>\n",
       "      <th>4</th>\n",
       "      <td>76085.280</td>\n",
       "      <td>117401.730</td>\n",
       "      <td>136135.260</td>\n",
       "      <td>173948.810</td>\n",
       "      <td>223538.300</td>\n",
       "      <td>278630.830</td>\n",
       "    </tr>\n",
       "    <tr>\n",
       "      <th>5</th>\n",
       "      <td>76761.000</td>\n",
       "      <td>117268.610</td>\n",
       "      <td>137848.390</td>\n",
       "      <td>175236.130</td>\n",
       "      <td>220192.940</td>\n",
       "      <td>281322.570</td>\n",
       "    </tr>\n",
       "    <tr>\n",
       "      <th>6</th>\n",
       "      <td>76516.320</td>\n",
       "      <td>117733.620</td>\n",
       "      <td>138811.590</td>\n",
       "      <td>175135.400</td>\n",
       "      <td>220294.160</td>\n",
       "      <td>280352.980</td>\n",
       "    </tr>\n",
       "    <tr>\n",
       "      <th>7</th>\n",
       "      <td>76067.530</td>\n",
       "      <td>115657.580</td>\n",
       "      <td>138185.080</td>\n",
       "      <td>175373.970</td>\n",
       "      <td>220294.160</td>\n",
       "      <td>281291.210</td>\n",
       "    </tr>\n",
       "    <tr>\n",
       "      <th>Média</th>\n",
       "      <td>75566.150</td>\n",
       "      <td>116210.560</td>\n",
       "      <td>137305.950</td>\n",
       "      <td>173227.240</td>\n",
       "      <td>221210.620</td>\n",
       "      <td>279556.940</td>\n",
       "    </tr>\n",
       "    <tr>\n",
       "      <th>Stand. Dev.</th>\n",
       "      <td>1164.880</td>\n",
       "      <td>1303.980</td>\n",
       "      <td>1144.860</td>\n",
       "      <td>2426.690</td>\n",
       "      <td>1646.650</td>\n",
       "      <td>2163.460</td>\n",
       "    </tr>\n",
       "    <tr>\n",
       "      <th>Gmin</th>\n",
       "      <td>1.826</td>\n",
       "      <td>1.371</td>\n",
       "      <td>1.297</td>\n",
       "      <td>1.834</td>\n",
       "      <td>1.299</td>\n",
       "      <td>1.614</td>\n",
       "    </tr>\n",
       "    <tr>\n",
       "      <th>Gmax</th>\n",
       "      <td>1.026</td>\n",
       "      <td>1.168</td>\n",
       "      <td>1.315</td>\n",
       "      <td>0.885</td>\n",
       "      <td>1.414</td>\n",
       "      <td>0.968</td>\n",
       "    </tr>\n",
       "    <tr>\n",
       "      <th>Variância</th>\n",
       "      <td>1356940.380</td>\n",
       "      <td>1700371.310</td>\n",
       "      <td>1310714.700</td>\n",
       "      <td>5888811.540</td>\n",
       "      <td>2711450.910</td>\n",
       "      <td>4680550.310</td>\n",
       "    </tr>\n",
       "  </tbody>\n",
       "</table>\n",
       "</div>"
      ],
      "text/plain": [
       "                Padrão 1     Padrão 2     Padrão 3     Padrão 4     Padrão 5  \\\n",
       "1              73439.330   114422.950   137847.370   168777.890   219072.220   \n",
       "2              74709.570   114855.200   136493.410   172028.960   222644.050   \n",
       "3              75383.990   116134.250   135820.570   172089.500   222438.490   \n",
       "4              76085.280   117401.730   136135.260   173948.810   223538.300   \n",
       "5              76761.000   117268.610   137848.390   175236.130   220192.940   \n",
       "6              76516.320   117733.620   138811.590   175135.400   220294.160   \n",
       "7              76067.530   115657.580   138185.080   175373.970   220294.160   \n",
       "Média          75566.150   116210.560   137305.950   173227.240   221210.620   \n",
       "Stand. Dev.     1164.880     1303.980     1144.860     2426.690     1646.650   \n",
       "Gmin               1.826        1.371        1.297        1.834        1.299   \n",
       "Gmax               1.026        1.168        1.315        0.885        1.414   \n",
       "Variância    1356940.380  1700371.310  1310714.700  5888811.540  2711450.910   \n",
       "\n",
       "                Padrão 6  \n",
       "1             281650.940  \n",
       "2             276065.010  \n",
       "3             277585.040  \n",
       "4             278630.830  \n",
       "5             281322.570  \n",
       "6             280352.980  \n",
       "7             281291.210  \n",
       "Média         279556.940  \n",
       "Stand. Dev.     2163.460  \n",
       "Gmin               1.614  \n",
       "Gmax               0.968  \n",
       "Variância    4680550.310  "
      ]
     },
     "execution_count": 12,
     "metadata": {},
     "output_type": "execute_result"
    }
   ],
   "source": [
    "# Criar um DataFrame com as estatísticas calculadas\n",
    "estatisticas_df = pd.DataFrame([medias, desvios_padrao, Gmin, Gmax, variancias], \n",
    "                               index=['Média', 'Stand. Dev.', 'Gmin', 'Gmax', 'Variância'])\n",
    "\n",
    "# Adicionar o DataFrame de estatísticas ao final do DataFrame original\n",
    "df = pd.concat([df, estatisticas_df])\n",
    "\n",
    "\n",
    "df"
   ]
  },
  {
   "cell_type": "markdown",
   "id": "38ae14ff-06e2-4dd8-aef2-ed348be1cd6f",
   "metadata": {},
   "source": [
    "# Teste Shapiro Wilk"
   ]
  },
  {
   "cell_type": "code",
   "execution_count": 13,
   "id": "bf9fe6ca-ea36-4f56-a795-705e26229bd6",
   "metadata": {},
   "outputs": [],
   "source": [
    "def shapiro_teste(col):\n",
    "    stat, p = shapiro(col)\n",
    "    if p > 0.05:\n",
    "        return True\n",
    "    else:\n",
    "        return False\n",
    "\n",
    "def shapiro_estatistica(col):\n",
    "    stat, p = shapiro(col)\n",
    "    return stat\n",
    "\n",
    "def shapiro_p(col):\n",
    "    stat, p = shapiro(col)\n",
    "    return p\n",
    "\n",
    "def shapiro_df(df):\n",
    "    estatisticas_shapiro = df.apply(shapiro_estatistica)\n",
    "    estatisticas_df = pd.DataFrame([estatisticas_shapiro], index=['Estatística W'])\n",
    "    df = pd.concat([df, estatisticas_df])\n",
    "\n",
    "    p_shapiro = df.apply(shapiro_p)\n",
    "    p_df = pd.DataFrame([p_shapiro], index=['Valor p'])\n",
    "    df = pd.concat([df, p_df])\n",
    "\n",
    "    normal_shapiro = df.apply(shapiro_teste).apply(lambda x: \"Sim\" if x else \"Não\")\n",
    "    normal_df = pd.DataFrame([normal_shapiro], index=['Distribuição Normal'])\n",
    "    df = pd.concat([df, normal_df])\n",
    "    return df"
   ]
  },
  {
   "cell_type": "code",
   "execution_count": 17,
   "id": "0f2b9ff2-53ec-4cae-a7dd-42b5cc4bc982",
   "metadata": {},
   "outputs": [
    {
     "data": {
      "text/html": [
       "<div>\n",
       "<style scoped>\n",
       "    .dataframe tbody tr th:only-of-type {\n",
       "        vertical-align: middle;\n",
       "    }\n",
       "\n",
       "    .dataframe tbody tr th {\n",
       "        vertical-align: top;\n",
       "    }\n",
       "\n",
       "    .dataframe thead th {\n",
       "        text-align: right;\n",
       "    }\n",
       "</style>\n",
       "<table border=\"1\" class=\"dataframe\">\n",
       "  <thead>\n",
       "    <tr style=\"text-align: right;\">\n",
       "      <th></th>\n",
       "      <th>Padrão 1</th>\n",
       "      <th>Padrão 2</th>\n",
       "      <th>Padrão 3</th>\n",
       "      <th>Padrão 4</th>\n",
       "      <th>Padrão 5</th>\n",
       "      <th>Padrão 6</th>\n",
       "    </tr>\n",
       "  </thead>\n",
       "  <tbody>\n",
       "    <tr>\n",
       "      <th>1</th>\n",
       "      <td>73439.33</td>\n",
       "      <td>114422.95</td>\n",
       "      <td>137847.37</td>\n",
       "      <td>168777.89</td>\n",
       "      <td>219072.22</td>\n",
       "      <td>281650.94</td>\n",
       "    </tr>\n",
       "    <tr>\n",
       "      <th>2</th>\n",
       "      <td>74709.57</td>\n",
       "      <td>114855.2</td>\n",
       "      <td>136493.41</td>\n",
       "      <td>172028.96</td>\n",
       "      <td>222644.05</td>\n",
       "      <td>276065.01</td>\n",
       "    </tr>\n",
       "    <tr>\n",
       "      <th>3</th>\n",
       "      <td>75383.99</td>\n",
       "      <td>116134.25</td>\n",
       "      <td>135820.57</td>\n",
       "      <td>172089.5</td>\n",
       "      <td>222438.49</td>\n",
       "      <td>277585.04</td>\n",
       "    </tr>\n",
       "    <tr>\n",
       "      <th>4</th>\n",
       "      <td>76085.28</td>\n",
       "      <td>117401.73</td>\n",
       "      <td>136135.26</td>\n",
       "      <td>173948.81</td>\n",
       "      <td>223538.3</td>\n",
       "      <td>278630.83</td>\n",
       "    </tr>\n",
       "    <tr>\n",
       "      <th>5</th>\n",
       "      <td>76761.0</td>\n",
       "      <td>117268.61</td>\n",
       "      <td>137848.39</td>\n",
       "      <td>175236.13</td>\n",
       "      <td>220192.94</td>\n",
       "      <td>281322.57</td>\n",
       "    </tr>\n",
       "    <tr>\n",
       "      <th>6</th>\n",
       "      <td>76516.32</td>\n",
       "      <td>117733.62</td>\n",
       "      <td>138811.59</td>\n",
       "      <td>175135.4</td>\n",
       "      <td>220294.16</td>\n",
       "      <td>280352.98</td>\n",
       "    </tr>\n",
       "    <tr>\n",
       "      <th>7</th>\n",
       "      <td>76067.53</td>\n",
       "      <td>115657.58</td>\n",
       "      <td>138185.08</td>\n",
       "      <td>175373.97</td>\n",
       "      <td>220294.16</td>\n",
       "      <td>281291.21</td>\n",
       "    </tr>\n",
       "    <tr>\n",
       "      <th>Estatística W</th>\n",
       "      <td>0.906179</td>\n",
       "      <td>0.918947</td>\n",
       "      <td>0.910628</td>\n",
       "      <td>0.859808</td>\n",
       "      <td>0.900818</td>\n",
       "      <td>0.886165</td>\n",
       "    </tr>\n",
       "    <tr>\n",
       "      <th>Valor p</th>\n",
       "      <td>0.000003</td>\n",
       "      <td>0.000002</td>\n",
       "      <td>0.000002</td>\n",
       "      <td>0.000003</td>\n",
       "      <td>0.000002</td>\n",
       "      <td>0.000002</td>\n",
       "    </tr>\n",
       "    <tr>\n",
       "      <th>Distribuição Normal</th>\n",
       "      <td>Não</td>\n",
       "      <td>Não</td>\n",
       "      <td>Não</td>\n",
       "      <td>Não</td>\n",
       "      <td>Não</td>\n",
       "      <td>Não</td>\n",
       "    </tr>\n",
       "  </tbody>\n",
       "</table>\n",
       "</div>"
      ],
      "text/plain": [
       "                     Padrão 1   Padrão 2   Padrão 3   Padrão 4   Padrão 5  \\\n",
       "1                    73439.33  114422.95  137847.37  168777.89  219072.22   \n",
       "2                    74709.57   114855.2  136493.41  172028.96  222644.05   \n",
       "3                    75383.99  116134.25  135820.57   172089.5  222438.49   \n",
       "4                    76085.28  117401.73  136135.26  173948.81   223538.3   \n",
       "5                     76761.0  117268.61  137848.39  175236.13  220192.94   \n",
       "6                    76516.32  117733.62  138811.59   175135.4  220294.16   \n",
       "7                    76067.53  115657.58  138185.08  175373.97  220294.16   \n",
       "Estatística W        0.906179   0.918947   0.910628   0.859808   0.900818   \n",
       "Valor p              0.000003   0.000002   0.000002   0.000003   0.000002   \n",
       "Distribuição Normal       Não        Não        Não        Não        Não   \n",
       "\n",
       "                      Padrão 6  \n",
       "1                    281650.94  \n",
       "2                    276065.01  \n",
       "3                    277585.04  \n",
       "4                    278630.83  \n",
       "5                    281322.57  \n",
       "6                    280352.98  \n",
       "7                    281291.21  \n",
       "Estatística W         0.886165  \n",
       "Valor p               0.000002  \n",
       "Distribuição Normal        Não  "
      ]
     },
     "execution_count": 17,
     "metadata": {},
     "output_type": "execute_result"
    }
   ],
   "source": [
    "df  =  ler_planilha ('Testes_Estatisticos.xlsx')\n",
    "resultados = shapiro_df(df)\n",
    "resultados"
   ]
  },
  {
   "cell_type": "code",
   "execution_count": 18,
   "id": "6c4ae201-99f3-4fa9-baff-5e91ce6326c4",
   "metadata": {},
   "outputs": [
    {
     "name": "stdout",
     "output_type": "stream",
     "text": [
      "Coluna Padrão 1:\n",
      "Estatística de teste: 0.9061791896820068\n",
      "Valor p: 0.3700520992279053\n",
      "Os dados parecem seguir uma distribuição normal.\n",
      "\n",
      "Coluna Padrão 2:\n",
      "Estatística de teste: 0.9189468622207642\n",
      "Valor p: 0.4612550437450409\n",
      "Os dados parecem seguir uma distribuição normal.\n",
      "\n",
      "Coluna Padrão 3:\n",
      "Estatística de teste: 0.9106277823448181\n",
      "Valor p: 0.40023767948150635\n",
      "Os dados parecem seguir uma distribuição normal.\n",
      "\n",
      "Coluna Padrão 4:\n",
      "Estatística de teste: 0.8598077893257141\n",
      "Valor p: 0.15079085528850555\n",
      "Os dados parecem seguir uma distribuição normal.\n",
      "\n",
      "Coluna Padrão 5:\n",
      "Estatística de teste: 0.9008180499076843\n",
      "Valor p: 0.3359634280204773\n",
      "Os dados parecem seguir uma distribuição normal.\n",
      "\n",
      "Coluna Padrão 6:\n",
      "Estatística de teste: 0.8861648440361023\n",
      "Valor p: 0.2552492916584015\n",
      "Os dados parecem seguir uma distribuição normal.\n",
      "\n"
     ]
    }
   ],
   "source": [
    "df  =  ler_planilha ('Testes_Estatisticos.xlsx')\n",
    "\n",
    "from scipy.stats import shapiro\n",
    "\n",
    "for col in df.columns:\n",
    "    stat, p = shapiro(df[col])\n",
    "    print(f'Coluna {col}:')\n",
    "    print('Estatística de teste:', stat)\n",
    "    print('Valor p:', p)\n",
    "    if p > 0.05:\n",
    "        print('Os dados parecem seguir uma distribuição normal.\\n')\n",
    "    else:\n",
    "        print('Os dados não seguem uma distribuição normal.\\n')"
   ]
  },
  {
   "cell_type": "markdown",
   "id": "38a3adf5-abd7-417d-aa3a-85978244396c",
   "metadata": {},
   "source": [
    "# Teste Grubbs"
   ]
  },
  {
   "cell_type": "code",
   "execution_count": 19,
   "id": "66006779-e28d-4ca3-81c2-36847659247a",
   "metadata": {},
   "outputs": [
    {
     "name": "stdout",
     "output_type": "stream",
     "text": [
      "Coluna Padrão 1:\n",
      "Nenhum outlier encontrado.\n",
      "\n",
      "Coluna Padrão 2:\n",
      "Nenhum outlier encontrado.\n",
      "\n",
      "Coluna Padrão 3:\n",
      "Nenhum outlier encontrado.\n",
      "\n",
      "Coluna Padrão 4:\n",
      "Nenhum outlier encontrado.\n",
      "\n",
      "Coluna Padrão 5:\n",
      "Nenhum outlier encontrado.\n",
      "\n",
      "Coluna Padrão 6:\n",
      "Nenhum outlier encontrado.\n",
      "\n"
     ]
    }
   ],
   "source": [
    "# Teste de outliers (Grubbs)\n",
    "df  =  ler_planilha ('Testes_Estatisticos.xlsx')\n",
    "\n",
    "def grubbs_test(data):\n",
    "    mean = data.mean()\n",
    "    std_dev = data.std()\n",
    "    n = len(data)\n",
    "\n",
    "    max_outlier = max(data)\n",
    "    min_outlier = min(data)\n",
    "\n",
    "    z = (max_outlier - mean) / std_dev if max_outlier > mean else (min_outlier - mean) / std_dev\n",
    "\n",
    "    critical_value = stats.t.ppf(1 - 0.05 / (2 * n), n - 2)\n",
    "\n",
    "    return z > critical_value\n",
    "\n",
    "for col in df.columns:\n",
    "    is_outlier = grubbs_test(df[col])\n",
    "    print(f'Coluna {col}:')\n",
    "    if is_outlier:\n",
    "        print('Outlier encontrado.\\n')\n",
    "    else:\n",
    "        print('Nenhum outlier encontrado.\\n')"
   ]
  },
  {
   "cell_type": "markdown",
   "id": "e6a95bcc-a4e4-4383-810c-f55f575ecf76",
   "metadata": {},
   "source": [
    "# Teste Cochran"
   ]
  },
  {
   "cell_type": "code",
   "execution_count": 20,
   "id": "198dd34b-6153-4c8d-a9fc-76d2fc4389af",
   "metadata": {},
   "outputs": [
    {
     "name": "stdout",
     "output_type": "stream",
     "text": [
      "Os dados são homocedásticos.\n"
     ]
    }
   ],
   "source": [
    "df  =  ler_planilha ('Testes_Estatisticos.xlsx')\n",
    "\n",
    "# Teste de homocedasticidade (Cochran)\n",
    "stat, pvalue = stats.levene(df['Padrão 1'], df['Padrão 1'])\n",
    "if pvalue < 0.05:\n",
    "    print('Os dados não são homocedásticos.')\n",
    "else:\n",
    "    print('Os dados são homocedásticos.')\n",
    "\n"
   ]
  },
  {
   "cell_type": "markdown",
   "id": "e6998f32-a578-4fcc-bf4a-ca8690284048",
   "metadata": {},
   "source": [
    "# Teste Anova"
   ]
  },
  {
   "cell_type": "code",
   "execution_count": 21,
   "id": "605ec62f-416f-41eb-898c-7e2d70501f54",
   "metadata": {},
   "outputs": [
    {
     "name": "stdout",
     "output_type": "stream",
     "text": [
      "Não existe uma diferença significativa entre os grupos.\n"
     ]
    }
   ],
   "source": [
    "df  =  ler_planilha ('Testes_Estatisticos.xlsx')\n",
    "\n",
    "# ANOVA (falta de ajuste e erro puro)\n",
    "F, pvalue = stats.f_oneway(df['Padrão 1'], df['Padrão 1'])\n",
    "if pvalue < 0.05:\n",
    "    print('Existe uma diferença significativa entre os grupos.')\n",
    "else:\n",
    "    print('Não existe uma diferença significativa entre os grupos.')"
   ]
  },
  {
   "cell_type": "markdown",
   "id": "fc5f04c4-1258-4a4a-ba4f-e3586fa56d4a",
   "metadata": {},
   "source": [
    "# Durbin Watson"
   ]
  },
  {
   "cell_type": "code",
   "execution_count": 22,
   "id": "f47740a9-06fa-4d6a-9f78-b53a33e4a03a",
   "metadata": {},
   "outputs": [
    {
     "name": "stdout",
     "output_type": "stream",
     "text": [
      "8.199227618926422e-05\n"
     ]
    }
   ],
   "source": [
    "df  =  ler_planilha ('Testes_Estatisticos.xlsx')\n",
    "\n",
    "# Teste de independência dos resíduos (Durbin Watson)\n",
    "# Obter o teste de Durbin-Watson\n",
    "dw = stattools.durbin_watson(df['Padrão 1'])\n",
    "\n",
    "# Imprimir o resultado do teste\n",
    "print(dw)"
   ]
  },
  {
   "cell_type": "code",
   "execution_count": null,
   "id": "2b53ba75-88bb-4a4b-b2e9-56e86af652e1",
   "metadata": {},
   "outputs": [],
   "source": []
  },
  {
   "cell_type": "code",
   "execution_count": null,
   "id": "1d99b61e-a3a8-49d8-846d-95a66819cf6e",
   "metadata": {},
   "outputs": [],
   "source": []
  },
  {
   "cell_type": "code",
   "execution_count": null,
   "id": "7eff281c-06cf-4af9-83d4-8de30b57637c",
   "metadata": {},
   "outputs": [],
   "source": []
  }
 ],
 "metadata": {
  "kernelspec": {
   "display_name": "Python 3 (ipykernel)",
   "language": "python",
   "name": "python3"
  },
  "language_info": {
   "codemirror_mode": {
    "name": "ipython",
    "version": 3
   },
   "file_extension": ".py",
   "mimetype": "text/x-python",
   "name": "python",
   "nbconvert_exporter": "python",
   "pygments_lexer": "ipython3",
   "version": "3.11.4"
  }
 },
 "nbformat": 4,
 "nbformat_minor": 5
}
