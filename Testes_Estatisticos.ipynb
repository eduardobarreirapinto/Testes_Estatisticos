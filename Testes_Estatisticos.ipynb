{
 "cells": [
  {
   "cell_type": "code",
   "execution_count": 1,
   "id": "c2c7e586-b859-4a77-a694-6e654a2082dd",
   "metadata": {},
   "outputs": [],
   "source": [
    "import pandas as pd\n",
    "import numpy as np\n",
    "import scipy.stats as stats"
   ]
  },
  {
   "cell_type": "code",
   "execution_count": 2,
   "id": "567d8fcc-bc0f-4aea-8768-084bec0803f9",
   "metadata": {},
   "outputs": [],
   "source": [
    "df = pd.read_excel('Testes_Estatisticos.xlsx', sheet_name='Dados')"
   ]
  },
  {
   "cell_type": "code",
   "execution_count": 3,
   "id": "e509ae82-0a7b-484d-aac2-047055b314e6",
   "metadata": {},
   "outputs": [
    {
     "data": {
      "text/html": [
       "<div>\n",
       "<style scoped>\n",
       "    .dataframe tbody tr th:only-of-type {\n",
       "        vertical-align: middle;\n",
       "    }\n",
       "\n",
       "    .dataframe tbody tr th {\n",
       "        vertical-align: top;\n",
       "    }\n",
       "\n",
       "    .dataframe thead th {\n",
       "        text-align: right;\n",
       "    }\n",
       "</style>\n",
       "<table border=\"1\" class=\"dataframe\">\n",
       "  <thead>\n",
       "    <tr style=\"text-align: right;\">\n",
       "      <th></th>\n",
       "      <th>Padrão 1</th>\n",
       "      <th>Padrão 2</th>\n",
       "      <th>Padrão 3</th>\n",
       "      <th>Padrão 4</th>\n",
       "      <th>Padrão 5</th>\n",
       "      <th>Padrão 6</th>\n",
       "    </tr>\n",
       "  </thead>\n",
       "  <tbody>\n",
       "    <tr>\n",
       "      <th>0</th>\n",
       "      <td>73439.331429</td>\n",
       "      <td>114422.951429</td>\n",
       "      <td>137847.371429</td>\n",
       "      <td>168777.891429</td>\n",
       "      <td>219072.221429</td>\n",
       "      <td>281650.941429</td>\n",
       "    </tr>\n",
       "    <tr>\n",
       "      <th>1</th>\n",
       "      <td>74709.571429</td>\n",
       "      <td>114855.201429</td>\n",
       "      <td>136493.411429</td>\n",
       "      <td>172028.961429</td>\n",
       "      <td>222644.051429</td>\n",
       "      <td>276065.011429</td>\n",
       "    </tr>\n",
       "    <tr>\n",
       "      <th>2</th>\n",
       "      <td>75383.991429</td>\n",
       "      <td>116134.251429</td>\n",
       "      <td>135820.571429</td>\n",
       "      <td>172089.501429</td>\n",
       "      <td>222438.491429</td>\n",
       "      <td>277585.041429</td>\n",
       "    </tr>\n",
       "    <tr>\n",
       "      <th>3</th>\n",
       "      <td>76085.281429</td>\n",
       "      <td>117401.731429</td>\n",
       "      <td>136135.261429</td>\n",
       "      <td>173948.811429</td>\n",
       "      <td>223538.301429</td>\n",
       "      <td>278630.831429</td>\n",
       "    </tr>\n",
       "    <tr>\n",
       "      <th>4</th>\n",
       "      <td>76761.001429</td>\n",
       "      <td>117268.611429</td>\n",
       "      <td>137848.391429</td>\n",
       "      <td>175236.131429</td>\n",
       "      <td>220192.941429</td>\n",
       "      <td>281322.571429</td>\n",
       "    </tr>\n",
       "    <tr>\n",
       "      <th>5</th>\n",
       "      <td>76516.321429</td>\n",
       "      <td>117733.621429</td>\n",
       "      <td>138811.591429</td>\n",
       "      <td>175135.401429</td>\n",
       "      <td>220294.161429</td>\n",
       "      <td>280352.981429</td>\n",
       "    </tr>\n",
       "    <tr>\n",
       "      <th>6</th>\n",
       "      <td>76067.531429</td>\n",
       "      <td>115657.581429</td>\n",
       "      <td>138185.081429</td>\n",
       "      <td>175373.971429</td>\n",
       "      <td>220751.101429</td>\n",
       "      <td>281291.211429</td>\n",
       "    </tr>\n",
       "  </tbody>\n",
       "</table>\n",
       "</div>"
      ],
      "text/plain": [
       "       Padrão 1       Padrão 2       Padrão 3       Padrão 4       Padrão 5  \\\n",
       "0  73439.331429  114422.951429  137847.371429  168777.891429  219072.221429   \n",
       "1  74709.571429  114855.201429  136493.411429  172028.961429  222644.051429   \n",
       "2  75383.991429  116134.251429  135820.571429  172089.501429  222438.491429   \n",
       "3  76085.281429  117401.731429  136135.261429  173948.811429  223538.301429   \n",
       "4  76761.001429  117268.611429  137848.391429  175236.131429  220192.941429   \n",
       "5  76516.321429  117733.621429  138811.591429  175135.401429  220294.161429   \n",
       "6  76067.531429  115657.581429  138185.081429  175373.971429  220751.101429   \n",
       "\n",
       "        Padrão 6  \n",
       "0  281650.941429  \n",
       "1  276065.011429  \n",
       "2  277585.041429  \n",
       "3  278630.831429  \n",
       "4  281322.571429  \n",
       "5  280352.981429  \n",
       "6  281291.211429  "
      ]
     },
     "execution_count": 3,
     "metadata": {},
     "output_type": "execute_result"
    }
   ],
   "source": [
    "df"
   ]
  },
  {
   "cell_type": "code",
   "execution_count": 4,
   "id": "8c27bda4-da11-459b-9af4-1efe5b1fe22f",
   "metadata": {},
   "outputs": [
    {
     "name": "stdout",
     "output_type": "stream",
     "text": [
      "Os dados são normalmente distribuídos.\n",
      "Os dados são homocedásticos.\n",
      "Não existe uma diferença significativa entre os grupos.\n"
     ]
    }
   ],
   "source": [
    "# Teste de normalidade (Shapiro Wilk)\n",
    "stat, pvalue = stats.shapiro(df['Padrão 1'])\n",
    "if pvalue < 0.05:\n",
    "    print('Os dados não são normalmente distribuídos.')\n",
    "else:\n",
    "    print('Os dados são normalmente distribuídos.')\n",
    "\n",
    "# Teste de homocedasticidade (Cochran)\n",
    "stat, pvalue = stats.levene(df['Padrão 1'], df['Padrão 1'])\n",
    "if pvalue < 0.05:\n",
    "    print('Os dados não são homocedásticos.')\n",
    "else:\n",
    "    print('Os dados são homocedásticos.')\n",
    "\n",
    "# ANOVA (falta de ajuste e erro puro)\n",
    "F, pvalue = stats.f_oneway(df['Padrão 1'], df['Padrão 1'])\n",
    "if pvalue < 0.05:\n",
    "    print('Existe uma diferença significativa entre os grupos.')\n",
    "else:\n",
    "    print('Não existe uma diferença significativa entre os grupos.')"
   ]
  },
  {
   "cell_type": "code",
   "execution_count": 5,
   "id": "f47740a9-06fa-4d6a-9f78-b53a33e4a03a",
   "metadata": {},
   "outputs": [
    {
     "ename": "TypeError",
     "evalue": "durbin_watson() takes from 1 to 2 positional arguments but 6 were given",
     "output_type": "error",
     "traceback": [
      "\u001b[1;31m---------------------------------------------------------------------------\u001b[0m",
      "\u001b[1;31mTypeError\u001b[0m                                 Traceback (most recent call last)",
      "Cell \u001b[1;32mIn[5], line 7\u001b[0m\n\u001b[0;32m      4\u001b[0m df \u001b[38;5;241m=\u001b[39m pd\u001b[38;5;241m.\u001b[39mread_excel(\u001b[38;5;124m'\u001b[39m\u001b[38;5;124mTestes_Estatisticos.xlsx\u001b[39m\u001b[38;5;124m'\u001b[39m, sheet_name\u001b[38;5;241m=\u001b[39m\u001b[38;5;124m'\u001b[39m\u001b[38;5;124mDados\u001b[39m\u001b[38;5;124m'\u001b[39m)\n\u001b[0;32m      6\u001b[0m \u001b[38;5;66;03m# Obter o teste de Durbin-Watson\u001b[39;00m\n\u001b[1;32m----> 7\u001b[0m dw \u001b[38;5;241m=\u001b[39m \u001b[43mstattools\u001b[49m\u001b[38;5;241;43m.\u001b[39;49m\u001b[43mdurbin_watson\u001b[49m\u001b[43m(\u001b[49m\u001b[43mdf\u001b[49m\u001b[43m[\u001b[49m\u001b[38;5;124;43m'\u001b[39;49m\u001b[38;5;124;43mPadrão 1\u001b[39;49m\u001b[38;5;124;43m'\u001b[39;49m\u001b[43m]\u001b[49m\u001b[43m,\u001b[49m\u001b[43m \u001b[49m\u001b[43mdf\u001b[49m\u001b[43m[\u001b[49m\u001b[38;5;124;43m'\u001b[39;49m\u001b[38;5;124;43mPadrão 2\u001b[39;49m\u001b[38;5;124;43m'\u001b[39;49m\u001b[43m]\u001b[49m\u001b[43m,\u001b[49m\u001b[43m \u001b[49m\u001b[43mdf\u001b[49m\u001b[43m[\u001b[49m\u001b[38;5;124;43m'\u001b[39;49m\u001b[38;5;124;43mPadrão 3\u001b[39;49m\u001b[38;5;124;43m'\u001b[39;49m\u001b[43m]\u001b[49m\u001b[43m,\u001b[49m\u001b[43m \u001b[49m\u001b[43mdf\u001b[49m\u001b[43m[\u001b[49m\u001b[38;5;124;43m'\u001b[39;49m\u001b[38;5;124;43mPadrão 4\u001b[39;49m\u001b[38;5;124;43m'\u001b[39;49m\u001b[43m]\u001b[49m\u001b[43m,\u001b[49m\u001b[43m \u001b[49m\u001b[43mdf\u001b[49m\u001b[43m[\u001b[49m\u001b[38;5;124;43m'\u001b[39;49m\u001b[38;5;124;43mPadrão 5\u001b[39;49m\u001b[38;5;124;43m'\u001b[39;49m\u001b[43m]\u001b[49m\u001b[43m,\u001b[49m\u001b[43m \u001b[49m\u001b[43mdf\u001b[49m\u001b[43m[\u001b[49m\u001b[38;5;124;43m'\u001b[39;49m\u001b[38;5;124;43mPadrão 6\u001b[39;49m\u001b[38;5;124;43m'\u001b[39;49m\u001b[43m]\u001b[49m\u001b[43m)\u001b[49m\n\u001b[0;32m      9\u001b[0m \u001b[38;5;66;03m# Imprimir o resultado do teste\u001b[39;00m\n\u001b[0;32m     10\u001b[0m \u001b[38;5;28mprint\u001b[39m(dw)\n",
      "\u001b[1;31mTypeError\u001b[0m: durbin_watson() takes from 1 to 2 positional arguments but 6 were given"
     ]
    }
   ],
   "source": [
    "import statsmodels.stats.stattools as stattools\n",
    "\n",
    "# Importar os dados do Excel\n",
    "df = pd.read_excel('Testes_Estatisticos.xlsx', sheet_name='Dados')\n",
    "\n",
    "# Obter o teste de Durbin-Watson\n",
    "dw = stattools.durbin_watson(df['Padrão 1'], df['Padrão 2'], df['Padrão 3'], df['Padrão 4'], df['Padrão 5'], df['Padrão 6'])\n",
    "\n",
    "# Imprimir o resultado do teste\n",
    "print(dw)"
   ]
  },
  {
   "cell_type": "code",
   "execution_count": null,
   "id": "66006779-e28d-4ca3-81c2-36847659247a",
   "metadata": {},
   "outputs": [],
   "source": [
    "import scipy.stats.mstats as mstats\n",
    "\n",
    "# Importar os dados do Excel\n",
    "df = pd.read_excel('Testes_Estatisticos.xlsx', sheet_name='Dados')\n",
    "\n",
    "# Obter o teste de Grubbs\n",
    "g = mstats.grubbs(df['Padrão 1'], df['Padrão 2'], df['Padrão 3'], df['Padrão 4'], df['Padrão 5'], df['Padrão 6'])\n",
    "\n",
    "# Imprimir o resultado do teste\n",
    "print(g)"
   ]
  },
  {
   "cell_type": "code",
   "execution_count": null,
   "id": "2b53ba75-88bb-4a4b-b2e9-56e86af652e1",
   "metadata": {},
   "outputs": [],
   "source": []
  }
 ],
 "metadata": {
  "kernelspec": {
   "display_name": "Python 3 (ipykernel)",
   "language": "python",
   "name": "python3"
  },
  "language_info": {
   "codemirror_mode": {
    "name": "ipython",
    "version": 3
   },
   "file_extension": ".py",
   "mimetype": "text/x-python",
   "name": "python",
   "nbconvert_exporter": "python",
   "pygments_lexer": "ipython3",
   "version": "3.11.4"
  }
 },
 "nbformat": 4,
 "nbformat_minor": 5
}
