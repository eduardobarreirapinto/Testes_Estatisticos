{
 "cells": [
  {
   "cell_type": "code",
   "execution_count": 18,
   "id": "c2c7e586-b859-4a77-a694-6e654a2082dd",
   "metadata": {},
   "outputs": [
    {
     "ename": "ImportError",
     "evalue": "cannot import name 'cochran' from 'scipy.stats' (C:\\Eduardo\\Desenvolvimento\\Testes_Estatisticos\\Lib\\site-packages\\scipy\\stats\\__init__.py)",
     "output_type": "error",
     "traceback": [
      "\u001b[1;31m---------------------------------------------------------------------------\u001b[0m",
      "\u001b[1;31mImportError\u001b[0m                               Traceback (most recent call last)",
      "Cell \u001b[1;32mIn[18], line 6\u001b[0m\n\u001b[0;32m      4\u001b[0m \u001b[38;5;28;01mimport\u001b[39;00m \u001b[38;5;21;01mstatsmodels\u001b[39;00m\u001b[38;5;21;01m.\u001b[39;00m\u001b[38;5;21;01mstats\u001b[39;00m\u001b[38;5;21;01m.\u001b[39;00m\u001b[38;5;21;01mstattools\u001b[39;00m \u001b[38;5;28;01mas\u001b[39;00m \u001b[38;5;21;01mstattools\u001b[39;00m\n\u001b[0;32m      5\u001b[0m \u001b[38;5;28;01mfrom\u001b[39;00m \u001b[38;5;21;01mscipy\u001b[39;00m\u001b[38;5;21;01m.\u001b[39;00m\u001b[38;5;21;01mstats\u001b[39;00m \u001b[38;5;28;01mimport\u001b[39;00m mstats\n\u001b[1;32m----> 6\u001b[0m \u001b[38;5;28;01mfrom\u001b[39;00m \u001b[38;5;21;01mscipy\u001b[39;00m\u001b[38;5;21;01m.\u001b[39;00m\u001b[38;5;21;01mstats\u001b[39;00m \u001b[38;5;28;01mimport\u001b[39;00m cochran\n",
      "\u001b[1;31mImportError\u001b[0m: cannot import name 'cochran' from 'scipy.stats' (C:\\Eduardo\\Desenvolvimento\\Testes_Estatisticos\\Lib\\site-packages\\scipy\\stats\\__init__.py)"
     ]
    }
   ],
   "source": [
    "import pandas as pd\n",
    "import numpy as np\n",
    "import scipy.stats as stats\n",
    "import statsmodels.stats.stattools as stattools\n",
    "from scipy.stats import mstats\n"
   ]
  },
  {
   "cell_type": "code",
   "execution_count": 2,
   "id": "567d8fcc-bc0f-4aea-8768-084bec0803f9",
   "metadata": {},
   "outputs": [],
   "source": [
    "df = pd.read_excel('Testes_Estatisticos.xlsx', sheet_name='Dados')"
   ]
  },
  {
   "cell_type": "code",
   "execution_count": 3,
   "id": "e509ae82-0a7b-484d-aac2-047055b314e6",
   "metadata": {},
   "outputs": [
    {
     "data": {
      "text/html": [
       "<div>\n",
       "<style scoped>\n",
       "    .dataframe tbody tr th:only-of-type {\n",
       "        vertical-align: middle;\n",
       "    }\n",
       "\n",
       "    .dataframe tbody tr th {\n",
       "        vertical-align: top;\n",
       "    }\n",
       "\n",
       "    .dataframe thead th {\n",
       "        text-align: right;\n",
       "    }\n",
       "</style>\n",
       "<table border=\"1\" class=\"dataframe\">\n",
       "  <thead>\n",
       "    <tr style=\"text-align: right;\">\n",
       "      <th></th>\n",
       "      <th>Padrão 1</th>\n",
       "      <th>Padrão 2</th>\n",
       "      <th>Padrão 3</th>\n",
       "      <th>Padrão 4</th>\n",
       "      <th>Padrão 5</th>\n",
       "      <th>Padrão 6</th>\n",
       "    </tr>\n",
       "  </thead>\n",
       "  <tbody>\n",
       "    <tr>\n",
       "      <th>0</th>\n",
       "      <td>73439.331429</td>\n",
       "      <td>114422.951429</td>\n",
       "      <td>137847.371429</td>\n",
       "      <td>168777.891429</td>\n",
       "      <td>219072.221429</td>\n",
       "      <td>281650.941429</td>\n",
       "    </tr>\n",
       "    <tr>\n",
       "      <th>1</th>\n",
       "      <td>74709.571429</td>\n",
       "      <td>114855.201429</td>\n",
       "      <td>136493.411429</td>\n",
       "      <td>172028.961429</td>\n",
       "      <td>222644.051429</td>\n",
       "      <td>276065.011429</td>\n",
       "    </tr>\n",
       "    <tr>\n",
       "      <th>2</th>\n",
       "      <td>75383.991429</td>\n",
       "      <td>116134.251429</td>\n",
       "      <td>135820.571429</td>\n",
       "      <td>172089.501429</td>\n",
       "      <td>222438.491429</td>\n",
       "      <td>277585.041429</td>\n",
       "    </tr>\n",
       "    <tr>\n",
       "      <th>3</th>\n",
       "      <td>76085.281429</td>\n",
       "      <td>117401.731429</td>\n",
       "      <td>136135.261429</td>\n",
       "      <td>173948.811429</td>\n",
       "      <td>223538.301429</td>\n",
       "      <td>278630.831429</td>\n",
       "    </tr>\n",
       "    <tr>\n",
       "      <th>4</th>\n",
       "      <td>76761.001429</td>\n",
       "      <td>117268.611429</td>\n",
       "      <td>137848.391429</td>\n",
       "      <td>175236.131429</td>\n",
       "      <td>220192.941429</td>\n",
       "      <td>281322.571429</td>\n",
       "    </tr>\n",
       "    <tr>\n",
       "      <th>5</th>\n",
       "      <td>76516.321429</td>\n",
       "      <td>117733.621429</td>\n",
       "      <td>138811.591429</td>\n",
       "      <td>175135.401429</td>\n",
       "      <td>220294.161429</td>\n",
       "      <td>280352.981429</td>\n",
       "    </tr>\n",
       "    <tr>\n",
       "      <th>6</th>\n",
       "      <td>76067.531429</td>\n",
       "      <td>115657.581429</td>\n",
       "      <td>138185.081429</td>\n",
       "      <td>175373.971429</td>\n",
       "      <td>220751.101429</td>\n",
       "      <td>281291.211429</td>\n",
       "    </tr>\n",
       "  </tbody>\n",
       "</table>\n",
       "</div>"
      ],
      "text/plain": [
       "       Padrão 1       Padrão 2       Padrão 3       Padrão 4       Padrão 5  \\\n",
       "0  73439.331429  114422.951429  137847.371429  168777.891429  219072.221429   \n",
       "1  74709.571429  114855.201429  136493.411429  172028.961429  222644.051429   \n",
       "2  75383.991429  116134.251429  135820.571429  172089.501429  222438.491429   \n",
       "3  76085.281429  117401.731429  136135.261429  173948.811429  223538.301429   \n",
       "4  76761.001429  117268.611429  137848.391429  175236.131429  220192.941429   \n",
       "5  76516.321429  117733.621429  138811.591429  175135.401429  220294.161429   \n",
       "6  76067.531429  115657.581429  138185.081429  175373.971429  220751.101429   \n",
       "\n",
       "        Padrão 6  \n",
       "0  281650.941429  \n",
       "1  276065.011429  \n",
       "2  277585.041429  \n",
       "3  278630.831429  \n",
       "4  281322.571429  \n",
       "5  280352.981429  \n",
       "6  281291.211429  "
      ]
     },
     "execution_count": 3,
     "metadata": {},
     "output_type": "execute_result"
    }
   ],
   "source": [
    "df"
   ]
  },
  {
   "cell_type": "code",
   "execution_count": 4,
   "id": "8c27bda4-da11-459b-9af4-1efe5b1fe22f",
   "metadata": {},
   "outputs": [
    {
     "name": "stdout",
     "output_type": "stream",
     "text": [
      "Os dados são normalmente distribuídos.\n"
     ]
    }
   ],
   "source": [
    "# Teste de normalidade (Shapiro Wilk)\n",
    "stat, pvalue = stats.shapiro(df['Padrão 1'])\n",
    "if pvalue < 0.05:\n",
    "    print('Os dados não são normalmente distribuídos.')\n",
    "else:\n",
    "    print('Os dados são normalmente distribuídos.')\n",
    "\n"
   ]
  },
  {
   "cell_type": "code",
   "execution_count": 19,
   "id": "6c4ae201-99f3-4fa9-baff-5e91ce6326c4",
   "metadata": {},
   "outputs": [
    {
     "name": "stdout",
     "output_type": "stream",
     "text": [
      "Coluna Padrão 1:\n",
      "Estatística de teste: 0.9061791896820068\n",
      "Valor p: 0.3700520992279053\n",
      "Os dados parecem seguir uma distribuição normal.\n",
      "\n",
      "Coluna Padrão 2:\n",
      "Estatística de teste: 0.9189468622207642\n",
      "Valor p: 0.4612550437450409\n",
      "Os dados parecem seguir uma distribuição normal.\n",
      "\n",
      "Coluna Padrão 3:\n",
      "Estatística de teste: 0.9106277823448181\n",
      "Valor p: 0.40023767948150635\n",
      "Os dados parecem seguir uma distribuição normal.\n",
      "\n",
      "Coluna Padrão 4:\n",
      "Estatística de teste: 0.8598077893257141\n",
      "Valor p: 0.15079085528850555\n",
      "Os dados parecem seguir uma distribuição normal.\n",
      "\n",
      "Coluna Padrão 5:\n",
      "Estatística de teste: 0.9388219118118286\n",
      "Valor p: 0.6281324028968811\n",
      "Os dados parecem seguir uma distribuição normal.\n",
      "\n",
      "Coluna Padrão 6:\n",
      "Estatística de teste: 0.8861648440361023\n",
      "Valor p: 0.2552492916584015\n",
      "Os dados parecem seguir uma distribuição normal.\n",
      "\n"
     ]
    }
   ],
   "source": [
    "from scipy.stats import shapiro\n",
    "\n",
    "for col in df.columns:\n",
    "    stat, p = shapiro(df[col])\n",
    "    print(f'Coluna {col}:')\n",
    "    print('Estatística de teste:', stat)\n",
    "    print('Valor p:', p)\n",
    "    if p > 0.05:\n",
    "        print('Os dados parecem seguir uma distribuição normal.\\n')\n",
    "    else:\n",
    "        print('Os dados não seguem uma distribuição normal.\\n')"
   ]
  },
  {
   "cell_type": "code",
   "execution_count": 5,
   "id": "198dd34b-6153-4c8d-a9fc-76d2fc4389af",
   "metadata": {},
   "outputs": [
    {
     "name": "stdout",
     "output_type": "stream",
     "text": [
      "Os dados são homocedásticos.\n"
     ]
    }
   ],
   "source": [
    "# Teste de homocedasticidade (Cochran)\n",
    "stat, pvalue = stats.levene(df['Padrão 1'], df['Padrão 1'])\n",
    "if pvalue < 0.05:\n",
    "    print('Os dados não são homocedásticos.')\n",
    "else:\n",
    "    print('Os dados são homocedásticos.')\n",
    "\n"
   ]
  },
  {
   "cell_type": "code",
   "execution_count": 6,
   "id": "605ec62f-416f-41eb-898c-7e2d70501f54",
   "metadata": {},
   "outputs": [
    {
     "name": "stdout",
     "output_type": "stream",
     "text": [
      "Não existe uma diferença significativa entre os grupos.\n"
     ]
    }
   ],
   "source": [
    "# ANOVA (falta de ajuste e erro puro)\n",
    "F, pvalue = stats.f_oneway(df['Padrão 1'], df['Padrão 1'])\n",
    "if pvalue < 0.05:\n",
    "    print('Existe uma diferença significativa entre os grupos.')\n",
    "else:\n",
    "    print('Não existe uma diferença significativa entre os grupos.')"
   ]
  },
  {
   "cell_type": "code",
   "execution_count": 9,
   "id": "f47740a9-06fa-4d6a-9f78-b53a33e4a03a",
   "metadata": {},
   "outputs": [
    {
     "name": "stdout",
     "output_type": "stream",
     "text": [
      "8.19922730897819e-05\n"
     ]
    }
   ],
   "source": [
    "# Teste de independência dos resíduos (Durbin Watson)\n",
    "\n",
    "\n",
    "# Importar os dados do Excel\n",
    "df = pd.read_excel('Testes_Estatisticos.xlsx', sheet_name='Dados')\n",
    "\n",
    "# Obter o teste de Durbin-Watson\n",
    "dw = stattools.durbin_watson(df['Padrão 1'])\n",
    "\n",
    "# Imprimir o resultado do teste\n",
    "print(dw)"
   ]
  },
  {
   "cell_type": "code",
   "execution_count": null,
   "id": "9fa4313f-8bda-4857-83ca-c2490d2cacf6",
   "metadata": {},
   "outputs": [],
   "source": []
  },
  {
   "cell_type": "code",
   "execution_count": 16,
   "id": "66006779-e28d-4ca3-81c2-36847659247a",
   "metadata": {},
   "outputs": [
    {
     "name": "stdout",
     "output_type": "stream",
     "text": [
      "Coluna Padrão 1:\n",
      "Nenhum outlier encontrado.\n",
      "\n",
      "Coluna Padrão 2:\n",
      "Nenhum outlier encontrado.\n",
      "\n",
      "Coluna Padrão 3:\n",
      "Nenhum outlier encontrado.\n",
      "\n",
      "Coluna Padrão 4:\n",
      "Nenhum outlier encontrado.\n",
      "\n",
      "Coluna Padrão 5:\n",
      "Nenhum outlier encontrado.\n",
      "\n",
      "Coluna Padrão 6:\n",
      "Nenhum outlier encontrado.\n",
      "\n"
     ]
    }
   ],
   "source": [
    "# Teste de outliers (Grubbs)\n",
    "\n",
    "# Importar os dados do Excel\n",
    "df = pd.read_excel('Testes_Estatisticos.xlsx', sheet_name='Dados')\n",
    "\n",
    "from scipy.stats import zscore\n",
    "\n",
    "def grubbs_test(data):\n",
    "    mean = data.mean()\n",
    "    std_dev = data.std()\n",
    "    n = len(data)\n",
    "\n",
    "    max_outlier = max(data)\n",
    "    min_outlier = min(data)\n",
    "\n",
    "    z = (max_outlier - mean) / std_dev if max_outlier > mean else (min_outlier - mean) / std_dev\n",
    "\n",
    "    critical_value = stats.t.ppf(1 - 0.05 / (2 * n), n - 2)\n",
    "\n",
    "    return z > critical_value\n",
    "\n",
    "for col in df.columns:\n",
    "    is_outlier = grubbs_test(df[col])\n",
    "    print(f'Coluna {col}:')\n",
    "    if is_outlier:\n",
    "        print('Outlier encontrado.\\n')\n",
    "    else:\n",
    "        print('Nenhum outlier encontrado.\\n')"
   ]
  },
  {
   "cell_type": "code",
   "execution_count": null,
   "id": "2b53ba75-88bb-4a4b-b2e9-56e86af652e1",
   "metadata": {},
   "outputs": [],
   "source": []
  }
 ],
 "metadata": {
  "kernelspec": {
   "display_name": "Python 3 (ipykernel)",
   "language": "python",
   "name": "python3"
  },
  "language_info": {
   "codemirror_mode": {
    "name": "ipython",
    "version": 3
   },
   "file_extension": ".py",
   "mimetype": "text/x-python",
   "name": "python",
   "nbconvert_exporter": "python",
   "pygments_lexer": "ipython3",
   "version": "3.11.4"
  }
 },
 "nbformat": 4,
 "nbformat_minor": 5
}
